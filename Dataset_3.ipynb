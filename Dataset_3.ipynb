{
  "cells": [
    {
      "cell_type": "code",
      "execution_count": null,
      "id": "1821a526",
      "metadata": {
        "id": "1821a526"
      },
      "outputs": [],
      "source": [
        "import numpy as np\n",
        "import pandas as pd\n",
        "import matplotlib.pyplot as plt\n",
        "from sklearn.linear_model import LinearRegression\n",
        "from sklearn.impute import SimpleImputer"
      ]
    },
    {
      "cell_type": "code",
      "source": [
        "from google.colab import drive\n",
        "drive.mount('/content/drive')"
      ],
      "metadata": {
        "colab": {
          "base_uri": "https://localhost:8080/"
        },
        "id": "TMmD6LjXJux4",
        "outputId": "24318956-e29d-4078-80a6-d491099b15a3"
      },
      "id": "TMmD6LjXJux4",
      "execution_count": null,
      "outputs": [
        {
          "output_type": "stream",
          "name": "stdout",
          "text": [
            "Drive already mounted at /content/drive; to attempt to forcibly remount, call drive.mount(\"/content/drive\", force_remount=True).\n"
          ]
        }
      ]
    },
    {
      "cell_type": "markdown",
      "id": "32c012d8",
      "metadata": {
        "id": "32c012d8"
      },
      "source": [
        "Defining train and test"
      ]
    },
    {
      "cell_type": "code",
      "execution_count": null,
      "id": "8f8ede4b",
      "metadata": {
        "id": "8f8ede4b"
      },
      "outputs": [],
      "source": [
        "train = pd.read_csv('/content/drive/MyDrive/Colab Notebooks/train.csv')\n",
        "test = pd.read_csv('/content/drive/MyDrive/Colab Notebooks/test.csv')"
      ]
    },
    {
      "cell_type": "code",
      "source": [
        "train.columns"
      ],
      "metadata": {
        "colab": {
          "base_uri": "https://localhost:8080/"
        },
        "id": "fddUDtN0E4M-",
        "outputId": "027db133-bafa-49c5-e0f6-a325f0bb26de"
      },
      "id": "fddUDtN0E4M-",
      "execution_count": null,
      "outputs": [
        {
          "output_type": "execute_result",
          "data": {
            "text/plain": [
              "Index(['x', 'y'], dtype='object')"
            ]
          },
          "metadata": {},
          "execution_count": 46
        }
      ]
    },
    {
      "cell_type": "code",
      "execution_count": null,
      "id": "92c0fc18",
      "metadata": {
        "id": "92c0fc18",
        "outputId": "d79a690d-a70d-45de-aa69-b1684abfd674",
        "colab": {
          "base_uri": "https://localhost:8080/"
        }
      },
      "outputs": [
        {
          "output_type": "stream",
          "name": "stdout",
          "text": [
            "<class 'pandas.core.frame.DataFrame'>\n",
            "RangeIndex: 700 entries, 0 to 699\n",
            "Data columns (total 2 columns):\n",
            " #   Column  Non-Null Count  Dtype  \n",
            "---  ------  --------------  -----  \n",
            " 0   x       700 non-null    float64\n",
            " 1   y       699 non-null    float64\n",
            "dtypes: float64(2)\n",
            "memory usage: 11.1 KB\n"
          ]
        }
      ],
      "source": [
        "train.info()"
      ]
    },
    {
      "cell_type": "code",
      "execution_count": null,
      "id": "3c4e0261",
      "metadata": {
        "id": "3c4e0261",
        "outputId": "1f83b818-768f-40f2-d276-f4cc6426fcfe",
        "colab": {
          "base_uri": "https://localhost:8080/"
        }
      },
      "outputs": [
        {
          "output_type": "stream",
          "name": "stdout",
          "text": [
            "<class 'pandas.core.frame.DataFrame'>\n",
            "RangeIndex: 300 entries, 0 to 299\n",
            "Data columns (total 2 columns):\n",
            " #   Column  Non-Null Count  Dtype  \n",
            "---  ------  --------------  -----  \n",
            " 0   x       300 non-null    int64  \n",
            " 1   y       300 non-null    float64\n",
            "dtypes: float64(1), int64(1)\n",
            "memory usage: 4.8 KB\n"
          ]
        }
      ],
      "source": [
        "test.info()"
      ]
    },
    {
      "cell_type": "markdown",
      "id": "ea0b47f2",
      "metadata": {
        "id": "ea0b47f2"
      },
      "source": [
        "Removing null values"
      ]
    },
    {
      "cell_type": "code",
      "execution_count": null,
      "id": "3d3804cd",
      "metadata": {
        "id": "3d3804cd"
      },
      "outputs": [],
      "source": [
        "imputer = SimpleImputer(missing_values=np.nan,strategy=\"mean\")\n",
        "imputer.fit(train)\n",
        "train = pd.DataFrame(imputer.transform(train),columns=('x','y'))"
      ]
    },
    {
      "cell_type": "code",
      "execution_count": null,
      "id": "8fdf135f",
      "metadata": {
        "id": "8fdf135f"
      },
      "outputs": [],
      "source": [
        "X_train = train.iloc[:,0:1].values\n",
        "y_train = train.iloc[:,-1].values\n",
        "X_test = test.iloc[:,0:1].values\n",
        "y_test = test.iloc[:,-1].values"
      ]
    },
    {
      "cell_type": "markdown",
      "id": "8e679099",
      "metadata": {
        "id": "8e679099"
      },
      "source": [
        "Generate regressor and fit the data"
      ]
    },
    {
      "cell_type": "code",
      "execution_count": null,
      "id": "4c47e087",
      "metadata": {
        "id": "4c47e087",
        "outputId": "ec95a136-3ff4-4309-ae15-1eb61ea493fe",
        "colab": {
          "base_uri": "https://localhost:8080/"
        }
      },
      "outputs": [
        {
          "output_type": "execute_result",
          "data": {
            "text/plain": [
              "LinearRegression()"
            ]
          },
          "metadata": {},
          "execution_count": 51
        }
      ],
      "source": [
        "regressor = LinearRegression()\n",
        "regressor.fit(X_train,y_train)"
      ]
    },
    {
      "cell_type": "markdown",
      "id": "6a41d2f8",
      "metadata": {
        "id": "6a41d2f8"
      },
      "source": [
        "Plotting the training data"
      ]
    },
    {
      "cell_type": "code",
      "execution_count": null,
      "id": "fb279dbb",
      "metadata": {
        "id": "fb279dbb",
        "colab": {
          "base_uri": "https://localhost:8080/",
          "height": 282
        },
        "outputId": "70e6a51b-9329-4758-9fdd-8d319cf008fc"
      },
      "outputs": [
        {
          "output_type": "execute_result",
          "data": {
            "text/plain": [
              "<matplotlib.collections.PathCollection at 0x7f8630c31550>"
            ]
          },
          "metadata": {},
          "execution_count": 52
        },
        {
          "output_type": "display_data",
          "data": {
            "text/plain": [
              "<Figure size 432x288 with 1 Axes>"
            ],
            "image/png": "[encoded data removed]"
          },
          "metadata": {
            "needs_background": "light"
          }
        }
      ],
      "source": [
        "predictions = regressor.predict(X_test)\n",
        "plt.scatter(X_train, y_train,color='g') "
      ]
    },
    {
      "cell_type": "markdown",
      "id": "9848e884",
      "metadata": {
        "id": "9848e884"
      },
      "source": [
        "Plotting the testing data"
      ]
    },
    {
      "cell_type": "code",
      "execution_count": null,
      "id": "51946830",
      "metadata": {
        "id": "51946830",
        "colab": {
          "base_uri": "https://localhost:8080/",
          "height": 282
        },
        "outputId": "b789924b-b0c2-4fb0-fabd-cd521b919c96"
      },
      "outputs": [
        {
          "output_type": "execute_result",
          "data": {
            "text/plain": [
              "<matplotlib.collections.PathCollection at 0x7f8630afacd0>"
            ]
          },
          "metadata": {},
          "execution_count": 53
        },
        {
          "output_type": "display_data",
          "data": {
            "text/plain": [
              "<Figure size 432x288 with 1 Axes>"
            ],
            "image/png": "[encoded data removed]"
          },
          "metadata": {
            "needs_background": "light"
          }
        }
      ],
      "source": [
        "plt.scatter(X_test, y_test, color='k')"
      ]
    },
    {
      "cell_type": "code",
      "source": [
        "max_x = train['x'].max()\n",
        "np.where( train['x'] == max_x)"
      ],
      "metadata": {
        "colab": {
          "base_uri": "https://localhost:8080/"
        },
        "id": "ice7ZWOiFLPH",
        "outputId": "07a416b5-ddaa-44ee-d09b-30a824823015"
      },
      "id": "ice7ZWOiFLPH",
      "execution_count": null,
      "outputs": [
        {
          "output_type": "execute_result",
          "data": {
            "text/plain": [
              "(array([213]),)"
            ]
          },
          "metadata": {},
          "execution_count": 54
        }
      ]
    },
    {
      "cell_type": "markdown",
      "id": "44845a74",
      "metadata": {
        "id": "44845a74"
      },
      "source": [
        "Doing this, you will get some unexpected graphics!\n",
        "Because there is a value too high and must be deleted"
      ]
    },
    {
      "cell_type": "code",
      "execution_count": null,
      "id": "823ec3d3",
      "metadata": {
        "id": "823ec3d3",
        "colab": {
          "base_uri": "https://localhost:8080/",
          "height": 81
        },
        "outputId": "e9176b23-cde0-455c-8a24-38da8daeea20"
      },
      "outputs": [
        {
          "output_type": "execute_result",
          "data": {
            "text/plain": [
              "               x          y\n",
              "213  3530.157369  49.939869"
            ],
            "text/html": [
              "\n",
              "  <div id=\"df-440a62f6-ea6a-4f0b-b40f-4cdbff306e95\">\n",
              "    <div class=\"colab-df-container\">\n",
              "      <div>\n",
              "<style scoped>\n",
              "    .dataframe tbody tr th:only-of-type {\n",
              "        vertical-align: middle;\n",
              "    }\n",
              "\n",
              "    .dataframe tbody tr th {\n",
              "        vertical-align: top;\n",
              "    }\n",
              "\n",
              "    .dataframe thead th {\n",
              "        text-align: right;\n",
              "    }\n",
              "</style>\n",
              "<table border=\"1\" class=\"dataframe\">\n",
              "  <thead>\n",
              "    <tr style=\"text-align: right;\">\n",
              "      <th></th>\n",
              "      <th>x</th>\n",
              "      <th>y</th>\n",
              "    </tr>\n",
              "  </thead>\n",
              "  <tbody>\n",
              "    <tr>\n",
              "      <th>213</th>\n",
              "      <td>3530.157369</td>\n",
              "      <td>49.939869</td>\n",
              "    </tr>\n",
              "  </tbody>\n",
              "</table>\n",
              "</div>\n",
              "      <button class=\"colab-df-convert\" onclick=\"convertToInteractive('df-440a62f6-ea6a-4f0b-b40f-4cdbff306e95')\"\n",
              "              title=\"Convert this dataframe to an interactive table.\"\n",
              "              style=\"display:none;\">\n",
              "        \n",
              "  <svg xmlns=\"http://www.w3.org/2000/svg\" height=\"24px\"viewBox=\"0 0 24 24\"\n",
              "       width=\"24px\">\n",
              "    <path d=\"M0 0h24v24H0V0z\" fill=\"none\"/>\n",
              "    <path d=\"M18.56 5.44l.94 2.06.94-2.06 2.06-.94-2.06-.94-.94-2.06-.94 2.06-2.06.94zm-11 1L8.5 8.5l.94-2.06 2.06-.94-2.06-.94L8.5 2.5l-.94 2.06-2.06.94zm10 10l.94 2.06.94-2.06 2.06-.94-2.06-.94-.94-2.06-.94 2.06-2.06.94z\"/><path d=\"M17.41 7.96l-1.37-1.37c-.4-.4-.92-.59-1.43-.59-.52 0-1.04.2-1.43.59L10.3 9.45l-7.72 7.72c-.78.78-.78 2.05 0 2.83L4 21.41c.39.39.9.59 1.41.59.51 0 1.02-.2 1.41-.59l7.78-7.78 2.81-2.81c.8-.78.8-2.07 0-2.86zM5.41 20L4 18.59l7.72-7.72 1.47 1.35L5.41 20z\"/>\n",
              "  </svg>\n",
              "      </button>\n",
              "      \n",
              "  <style>\n",
              "    .colab-df-container {\n",
              "      display:flex;\n",
              "      flex-wrap:wrap;\n",
              "      gap: 12px;\n",
              "    }\n",
              "\n",
              "    .colab-df-convert {\n",
              "      background-color: #E8F0FE;\n",
              "      border: none;\n",
              "      border-radius: 50%;\n",
              "      cursor: pointer;\n",
              "      display: none;\n",
              "      fill: #1967D2;\n",
              "      height: 32px;\n",
              "      padding: 0 0 0 0;\n",
              "      width: 32px;\n",
              "    }\n",
              "\n",
              "    .colab-df-convert:hover {\n",
              "      background-color: #E2EBFA;\n",
              "      box-shadow: 0px 1px 2px rgba(60, 64, 67, 0.3), 0px 1px 3px 1px rgba(60, 64, 67, 0.15);\n",
              "      fill: #174EA6;\n",
              "    }\n",
              "\n",
              "    [theme=dark] .colab-df-convert {\n",
              "      background-color: #3B4455;\n",
              "      fill: #D2E3FC;\n",
              "    }\n",
              "\n",
              "    [theme=dark] .colab-df-convert:hover {\n",
              "      background-color: #434B5C;\n",
              "      box-shadow: 0px 1px 3px 1px rgba(0, 0, 0, 0.15);\n",
              "      filter: drop-shadow(0px 1px 2px rgba(0, 0, 0, 0.3));\n",
              "      fill: #FFFFFF;\n",
              "    }\n",
              "  </style>\n",
              "\n",
              "      <script>\n",
              "        const buttonEl =\n",
              "          document.querySelector('#df-440a62f6-ea6a-4f0b-b40f-4cdbff306e95 button.colab-df-convert');\n",
              "        buttonEl.style.display =\n",
              "          google.colab.kernel.accessAllowed ? 'block' : 'none';\n",
              "\n",
              "        async function convertToInteractive(key) {\n",
              "          const element = document.querySelector('#df-440a62f6-ea6a-4f0b-b40f-4cdbff306e95');\n",
              "          const dataTable =\n",
              "            await google.colab.kernel.invokeFunction('convertToInteractive',\n",
              "                                                     [key], {});\n",
              "          if (!dataTable) return;\n",
              "\n",
              "          const docLinkHtml = 'Like what you see? Visit the ' +\n",
              "            '<a target=\"_blank\" href=https://colab.research.google.com/notebooks/data_table.ipynb>data table notebook</a>'\n",
              "            + ' to learn more about interactive tables.';\n",
              "          element.innerHTML = '';\n",
              "          dataTable['output_type'] = 'display_data';\n",
              "          await google.colab.output.renderOutput(dataTable, element);\n",
              "          const docLink = document.createElement('div');\n",
              "          docLink.innerHTML = docLinkHtml;\n",
              "          element.appendChild(docLink);\n",
              "        }\n",
              "      </script>\n",
              "    </div>\n",
              "  </div>\n",
              "  "
            ]
          },
          "metadata": {},
          "execution_count": 37
        }
      ],
      "source": [
        "# Hint: Run a loop to find the index of max value\n",
        "train.iloc[[213]]     #we can see here that this point is the outlier in our data and the index is 213"
      ]
    },
    {
      "cell_type": "markdown",
      "id": "cdf72719",
      "metadata": {
        "id": "cdf72719"
      },
      "source": [
        "Now we should delete the index of max value to make data more fit"
      ]
    },
    {
      "cell_type": "code",
      "execution_count": null,
      "id": "af2a0d0c",
      "metadata": {
        "id": "af2a0d0c",
        "colab": {
          "base_uri": "https://localhost:8080/"
        },
        "outputId": "9c9b920d-ed07-4277-b0b0-cb2fc8ed89fe"
      },
      "outputs": [
        {
          "output_type": "execute_result",
          "data": {
            "text/plain": [
              "LinearRegression()"
            ]
          },
          "metadata": {},
          "execution_count": 55
        }
      ],
      "source": [
        "train.drop(213,axis=0,inplace=True) # fill the index\n",
        "X_train = train.iloc[:,0:1].values\n",
        "y_train = train.iloc[:,-1].values\n",
        "regressor = LinearRegression()\n",
        "regressor.fit(X_train,y_train)"
      ]
    },
    {
      "cell_type": "markdown",
      "id": "c4861b98",
      "metadata": {
        "id": "c4861b98"
      },
      "source": [
        "Again,Plotting the training data"
      ]
    },
    {
      "cell_type": "code",
      "execution_count": null,
      "id": "ab7af5ea",
      "metadata": {
        "id": "ab7af5ea",
        "colab": {
          "base_uri": "https://localhost:8080/",
          "height": 282
        },
        "outputId": "fda25b22-5b36-4566-a42c-15b657940282"
      },
      "outputs": [
        {
          "output_type": "execute_result",
          "data": {
            "text/plain": [
              "<matplotlib.collections.PathCollection at 0x7f8630ac0a90>"
            ]
          },
          "metadata": {},
          "execution_count": 56
        },
        {
          "output_type": "display_data",
          "data": {
            "text/plain": [
              "<Figure size 432x288 with 1 Axes>"
            ],
            "image/png": "[encoded data removed]"
          },
          "metadata": {
            "needs_background": "light"
          }
        }
      ],
      "source": [
        "plt.scatter(X_train, y_train,color='g') "
      ]
    },
    {
      "cell_type": "markdown",
      "id": "d6d9c891",
      "metadata": {
        "id": "d6d9c891"
      },
      "source": [
        "Again,Plotting the testing data"
      ]
    },
    {
      "cell_type": "code",
      "execution_count": null,
      "id": "379909cf",
      "metadata": {
        "id": "379909cf",
        "colab": {
          "base_uri": "https://localhost:8080/",
          "height": 282
        },
        "outputId": "db1d09ce-3b99-412b-93eb-3bb690d8e755"
      },
      "outputs": [
        {
          "output_type": "execute_result",
          "data": {
            "text/plain": [
              "<matplotlib.collections.PathCollection at 0x7f8630a97820>"
            ]
          },
          "metadata": {},
          "execution_count": 57
        },
        {
          "output_type": "display_data",
          "data": {
            "text/plain": [
              "<Figure size 432x288 with 1 Axes>"
            ],
            "image/png": "[encoded data removed]"
          },
          "metadata": {
            "needs_background": "light"
          }
        }
      ],
      "source": [
        "plt.scatter(X_test, y_test, color='k')"
      ]
    }
  ],
  "metadata": {
    "kernelspec": {
      "display_name": "Python 3 (ipykernel)",
      "language": "python",
      "name": "python3"
    },
    "language_info": {
      "codemirror_mode": {
        "name": "ipython",
        "version": 3
      },
      "file_extension": ".py",
      "mimetype": "text/x-python",
      "name": "python",
      "nbconvert_exporter": "python",
      "pygments_lexer": "ipython3",
      "version": "3.9.13"
    },
    "colab": {
      "provenance": []
    }
  },
  "nbformat": 4,
  "nbformat_minor": 5
}